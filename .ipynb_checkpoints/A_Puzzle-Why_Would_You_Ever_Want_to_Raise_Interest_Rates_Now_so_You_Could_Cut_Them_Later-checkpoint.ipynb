{
 "cells": [
  {
   "cell_type": "markdown",
   "metadata": {},
   "source": [
    "# <font color=\"000088\">A Puzzle: Why Would You Ever Want to Raise Interest Rates Now so You Could Cut Them Later?</font>\n",
    "\n",
    "<http://nbviewer.jupyter.org/github/braddelong/NOTEBOOK-Macro-and-Macro-Policy/blob/master/A_Puzzle-Why_Would_You_Ever_Want_to_Raise_Interest_Rates_Now_so_You_Could_Cut_Them_Later.ipynb>   \n",
    "<https://github.com/braddelong/NOTEBOOK-Macro-and-Macro-Policy/blob/master/A_Puzzle-Why_Would_You_Ever_Want_to_Raise_Interest_Rates_Now_so_You_Could_Cut_Them_Later.ipynb>\n",
    "\n",
    "&nbsp;"
   ]
  },
  {
   "cell_type": "markdown",
   "metadata": {},
   "source": [
    "### <font color=\"880000\">An Example of the Argument</font>\n",
    "\n",
    "From **Martin Feldstein** (2018-11-27): _[Raise Rates Today to Fight a Recession Tomorrow](https://www.wsj.com/articles/raise-rates-today-to-fight-a-recession-tomorrow-1543276851)_: \"As I have argued in these pages since 2013, the Fed should have begun raising the fed-funds rate several years earlier... <!--more-->   \n",
    "\n",
    ">...Doing so would have prevented the recent sharp increases in the prices of equities and other assets, which will collapse when long-term interest rates rise.... Declining asset prices could destroy a substantial amount of household wealth and push the economy into recession. Unfortunately it is not possible to turn back the clock and prevent the overvaluation of assets and the resulting risk of recession. But I believe that the Fed is raising rates today so that it will be in a better position to offset a future economic decline.... \n",
    "\n",
    ">There is a significant risk that the U.S. economy will slide into recession in the next few years.... Bloated asset prices will likely collapse, dragging industry down with them. The price-earnings ratio of the S&P 500 is nearly 40% above its historic average. As long-term interest rates return to normal levels, demand for equities and other assets will decline rapidly. A return of share prices today to their historic price-earnings ratios would wipe out nearly 8 trillion of household wealth. The resulting decline in consumer spending and the related fall in business activity would be enough to push the economy into recession.... \n",
    "\n",
    ">The Fed is right to increase the short-term rate now so that it will have as much ammunition as possible when the next downturn comes... \n",
    "\n",
    "&nbsp;\n",
    "\n",
    "I have never understood this argument. And—to my knowledge—there is no underlying model behind it at all. What is the mechanism by which raising interest rates now so you can lower them later beats keeping interest rates the same now and then lowering them later if both ultimately wind up at the same place?\n",
    "\n",
    "&nbsp;\n",
    "\n",
    "### <font color=\"000088\">The Standard IS-LM Framework</font>\n",
    "\n",
    "> $ Y = AD = \\mu\\left(c_o + I_o + G\\right) + \\mu\\left(x_fY^f + x_{\\epsilon}{\\epsilon}_o +  x_{\\epsilon}{\\epsilon}_rr^f\\right) - \\mu\\left(I_r + x_{\\epsilon}{\\epsilon}_r\\right)r $\n",
    "\n",
    "* $ c_y $ : marginal propensity to consume\n",
    "* $ c_o $ : consumer confidence\n",
    "* $ t $ : tax rate\n",
    "* $ im_y $ : propensity to import\n",
    "* $ IM = im_yY $ : imports\n",
    "* $ \\mu = \\frac{1}{1-c_y(1-t)+im_y} $ : multiplier\n",
    "* $ C = c_o + c_y(1-t)Y $ : consumption function\n",
    "* $ G $ : government purchases\n",
    "* $ x_f $ : foreign propensity to buy our exports out of income\n",
    "* $ Y^f $ : foreign national income\n",
    "* $ x_{\\epsilon} $ : foreign propensity to buy our exports as the value of foreign currency, the exchange rate, increases\n",
    "* $ {\\epsilon}_o $ : foreign exchange speculators' expectations of the long-run value of foreign currency, the exchange rate\n",
    "* $ {\\epsilon}_r $ : interest sensitivity of the exchange rate\n",
    "* $ r^f $ : foreign interest rate\n",
    "* $ i $ : short-term safe nominal interest rate—controlled by central bank\n",
    "* $ \\rho = \\rho^T + \\rho^r $ : risk premium, a sum of a term premium and a counterparty risk -premium\n",
    "* $ \\pi $ : inflation rate\n",
    "* $ r = (i + \\rho - \\pi) $ : long-term risky real interest rate\n",
    "* $ \\epsilon = {\\epsilon}_o  + {\\epsilon}_r(r^f - r) $ : exchange rate\n",
    "* $ GX = x_fY^f + x_{\\epsilon}{\\epsilon} $ : gross exports\n",
    "* $ NX = GX - IM $ : net exports\n",
    "* $ I_o $ : business investment committee animal spirits\n",
    "* $ I_r $ : interest sensitivity of investment\n",
    "* $ I = I_o - I_rr $ : investment function\n",
    "* $ Y = AD = C + I + G + NX $ : national income identity\n",
    "\n",
    "\n",
    "\n",
    "&nbsp;"
   ]
  }
 ],
 "metadata": {
  "kernelspec": {
   "display_name": "Python 3",
   "language": "python",
   "name": "python3"
  },
  "language_info": {
   "codemirror_mode": {
    "name": "ipython",
    "version": 3
   },
   "file_extension": ".py",
   "mimetype": "text/x-python",
   "name": "python",
   "nbconvert_exporter": "python",
   "pygments_lexer": "ipython3",
   "version": "3.6.5"
  }
 },
 "nbformat": 4,
 "nbformat_minor": 2
}
