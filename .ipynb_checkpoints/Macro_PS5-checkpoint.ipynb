{
 "cells": [
  {
   "cell_type": "markdown",
   "metadata": {
    "slideshow": {
     "slide_type": "notes"
    }
   },
   "source": [
    "# 2018-02-01 Econ 101b Problem Set 5"
   ]
  },
  {
   "cell_type": "markdown",
   "metadata": {},
   "source": [
    "#### Probem set will be due Wed Feb 21 at midnight...\n",
    "\n",
    "#### Sections between Tu AM & Th AM lecture will be problem set section...\n",
    "\n",
    "----\n",
    "\n",
    "&nbsp;"
   ]
  },
  {
   "cell_type": "markdown",
   "metadata": {},
   "source": [
    "## Setting up the Python/Jupyter environment"
   ]
  },
  {
   "cell_type": "code",
   "execution_count": 1,
   "metadata": {},
   "outputs": [
    {
     "data": {
      "application/javascript": [
       "\n",
       "IPython.OutputArea.prototype._should_scroll = function(lines) {\n",
       "    return false;}\n"
      ],
      "text/plain": [
       "<IPython.core.display.Javascript object>"
      ]
     },
     "metadata": {},
     "output_type": "display_data"
    }
   ],
   "source": [
    "%%javascript\n",
    "\n",
    "IPython.OutputArea.prototype._should_scroll = function(lines) {\n",
    "    return false;}"
   ]
  },
  {
   "cell_type": "code",
   "execution_count": 2,
   "metadata": {},
   "outputs": [],
   "source": [
    "# ABOVE CELL IS \"NO SCROLLING SUBWINDOWS\" SETUP\n",
    "#\n",
    "# keep output cells from shifting to autoscroll: little scrolling\n",
    "# subwindows within the notebook are an annoyance..."
   ]
  },
  {
   "cell_type": "code",
   "execution_count": 3,
   "metadata": {},
   "outputs": [],
   "source": [
    "# THIS CELL LOADS THE LIBRARIES\n",
    "#\n",
    "# set up the environment by reading in every library we might need: \n",
    "# os... graphics... data manipulation... time... math... statistics...\n",
    "\n",
    "import sys\n",
    "import os\n",
    "from urllib.request import urlretrieve\n",
    "\n",
    "import matplotlib as mpl\n",
    "import matplotlib.pyplot as plt\n",
    "from IPython.display import Image\n",
    "\n",
    "import pandas as pd\n",
    "from pandas import DataFrame, Series\n",
    "from datetime import datetime\n",
    "\n",
    "import scipy as sp\n",
    "import numpy as np\n",
    "import math\n",
    "import random\n",
    "\n",
    "import seaborn as sns\n",
    "import statsmodels\n",
    "import statsmodels.api as sm\n",
    "import statsmodels.formula.api as smf"
   ]
  },
  {
   "cell_type": "code",
   "execution_count": 4,
   "metadata": {},
   "outputs": [],
   "source": [
    "# PRETTIER GRAPHICS SETUP\n",
    "#\n",
    "# graphics setup: seaborn-whitegrid and figure size;\n",
    "# graphs in the notebook itself...\n",
    "\n",
    "%matplotlib inline \n",
    "\n",
    "plt.style.use('seaborn-whitegrid')\n",
    "\n",
    "figure_size = plt.rcParams[\"figure.figsize\"]\n",
    "figure_size[0] = 12\n",
    "figure_size[1] = 10\n",
    "plt.rcParams[\"figure.figsize\"] = figure_size"
   ]
  },
  {
   "cell_type": "code",
   "execution_count": 5,
   "metadata": {},
   "outputs": [
    {
     "name": "stdout",
     "output_type": "stream",
     "text": [
      "Collecting okpy\n",
      "\u001b[?25l  Downloading https://files.pythonhosted.org/packages/28/c8/0a2cb5bba774551781297902400f2a7c68a68fd36b8a685b6d176c2e24d9/okpy-1.14.15-py3-none-any.whl (97kB)\n",
      "\u001b[K    100% |████████████████████████████████| 102kB 5.2MB/s \n",
      "\u001b[?25hRequirement already satisfied, skipping upgrade: coverage==3.7.1 in /anaconda3/lib/python3.6/site-packages (from okpy) (3.7.1)\n",
      "Collecting requests==2.12.4 (from okpy)\n",
      "  Using cached https://files.pythonhosted.org/packages/ed/9e/60cc074968c095f728f0d8d28370e8d396fa60afb7582735563cccf223dd/requests-2.12.4-py2.py3-none-any.whl\n",
      "Installing collected packages: requests, okpy\n",
      "  Found existing installation: requests 2.20.1\n",
      "    Uninstalling requests-2.20.1:\n",
      "      Successfully uninstalled requests-2.20.1\n",
      "  Found existing installation: okpy 1.13.11\n",
      "    Uninstalling okpy-1.13.11:\n",
      "      Successfully uninstalled okpy-1.13.11\n",
      "Successfully installed okpy-1.14.15 requests-2.12.4\n"
     ]
    },
    {
     "ename": "LoadingException",
     "evalue": "Could not find config file: ps5.ok",
     "output_type": "error",
     "traceback": [
      "\u001b[0;31m---------------------------------------------------------------------------\u001b[0m",
      "\u001b[0;31mLoadingException\u001b[0m                          Traceback (most recent call last)",
      "\u001b[0;32m<ipython-input-5-6463962c572d>\u001b[0m in \u001b[0;36m<module>\u001b[0;34m\u001b[0m\n\u001b[1;32m     10\u001b[0m \u001b[0;32mfrom\u001b[0m \u001b[0mclient\u001b[0m\u001b[0;34m.\u001b[0m\u001b[0mapi\u001b[0m\u001b[0;34m.\u001b[0m\u001b[0mnotebook\u001b[0m \u001b[0;32mimport\u001b[0m \u001b[0mNotebook\u001b[0m\u001b[0;34m\u001b[0m\u001b[0m\n\u001b[1;32m     11\u001b[0m \u001b[0;34m\u001b[0m\u001b[0m\n\u001b[0;32m---> 12\u001b[0;31m \u001b[0mok\u001b[0m \u001b[0;34m=\u001b[0m \u001b[0mNotebook\u001b[0m\u001b[0;34m(\u001b[0m\u001b[0;34m'ps5.ok'\u001b[0m\u001b[0;34m)\u001b[0m\u001b[0;34m\u001b[0m\u001b[0m\n\u001b[0m\u001b[1;32m     13\u001b[0m \u001b[0m_\u001b[0m \u001b[0;34m=\u001b[0m \u001b[0mok\u001b[0m\u001b[0;34m.\u001b[0m\u001b[0mauth\u001b[0m\u001b[0;34m(\u001b[0m\u001b[0mforce\u001b[0m\u001b[0;34m=\u001b[0m\u001b[0;32mTrue\u001b[0m\u001b[0;34m,\u001b[0m \u001b[0minline\u001b[0m\u001b[0;34m=\u001b[0m\u001b[0;32mTrue\u001b[0m\u001b[0;34m)\u001b[0m\u001b[0;34m\u001b[0m\u001b[0m\n",
      "\u001b[0;32m/anaconda3/lib/python3.6/site-packages/client/api/notebook.py\u001b[0m in \u001b[0;36m__init__\u001b[0;34m(self, filepath, cmd_args, debug, mode)\u001b[0m\n\u001b[1;32m     13\u001b[0m         \u001b[0mok_logger\u001b[0m \u001b[0;34m=\u001b[0m \u001b[0mlogging\u001b[0m\u001b[0;34m.\u001b[0m\u001b[0mgetLogger\u001b[0m\u001b[0;34m(\u001b[0m\u001b[0;34m'client'\u001b[0m\u001b[0;34m)\u001b[0m   \u001b[0;31m# Get top-level ok logger\u001b[0m\u001b[0;34m\u001b[0m\u001b[0m\n\u001b[1;32m     14\u001b[0m         \u001b[0mok_logger\u001b[0m\u001b[0;34m.\u001b[0m\u001b[0msetLevel\u001b[0m\u001b[0;34m(\u001b[0m\u001b[0mlogging\u001b[0m\u001b[0;34m.\u001b[0m\u001b[0mDEBUG\u001b[0m \u001b[0;32mif\u001b[0m \u001b[0mdebug\u001b[0m \u001b[0;32melse\u001b[0m \u001b[0mlogging\u001b[0m\u001b[0;34m.\u001b[0m\u001b[0mERROR\u001b[0m\u001b[0;34m)\u001b[0m\u001b[0;34m\u001b[0m\u001b[0m\n\u001b[0;32m---> 15\u001b[0;31m         \u001b[0mself\u001b[0m\u001b[0;34m.\u001b[0m\u001b[0massignment\u001b[0m \u001b[0;34m=\u001b[0m \u001b[0mload_assignment\u001b[0m\u001b[0;34m(\u001b[0m\u001b[0mfilepath\u001b[0m\u001b[0;34m,\u001b[0m \u001b[0mcmd_args\u001b[0m\u001b[0;34m)\u001b[0m\u001b[0;34m\u001b[0m\u001b[0m\n\u001b[0m\u001b[1;32m     16\u001b[0m         \u001b[0;31m# Attempt a login with enviornment based tokens\u001b[0m\u001b[0;34m\u001b[0m\u001b[0;34m\u001b[0m\u001b[0m\n\u001b[1;32m     17\u001b[0m         \u001b[0mlogin_with_env\u001b[0m\u001b[0;34m(\u001b[0m\u001b[0mself\u001b[0m\u001b[0;34m.\u001b[0m\u001b[0massignment\u001b[0m\u001b[0;34m)\u001b[0m\u001b[0;34m\u001b[0m\u001b[0m\n",
      "\u001b[0;32m/anaconda3/lib/python3.6/site-packages/client/api/assignment.py\u001b[0m in \u001b[0;36mload_assignment\u001b[0;34m(filepath, cmd_args)\u001b[0m\n\u001b[1;32m     17\u001b[0m \u001b[0;34m\u001b[0m\u001b[0m\n\u001b[1;32m     18\u001b[0m \u001b[0;32mdef\u001b[0m \u001b[0mload_assignment\u001b[0m\u001b[0;34m(\u001b[0m\u001b[0mfilepath\u001b[0m\u001b[0;34m=\u001b[0m\u001b[0;32mNone\u001b[0m\u001b[0;34m,\u001b[0m \u001b[0mcmd_args\u001b[0m\u001b[0;34m=\u001b[0m\u001b[0;32mNone\u001b[0m\u001b[0;34m)\u001b[0m\u001b[0;34m:\u001b[0m\u001b[0;34m\u001b[0m\u001b[0m\n\u001b[0;32m---> 19\u001b[0;31m     \u001b[0mconfig\u001b[0m \u001b[0;34m=\u001b[0m \u001b[0m_get_config\u001b[0m\u001b[0;34m(\u001b[0m\u001b[0mfilepath\u001b[0m\u001b[0;34m)\u001b[0m\u001b[0;34m\u001b[0m\u001b[0m\n\u001b[0m\u001b[1;32m     20\u001b[0m     \u001b[0;32mif\u001b[0m \u001b[0;32mnot\u001b[0m \u001b[0misinstance\u001b[0m\u001b[0;34m(\u001b[0m\u001b[0mconfig\u001b[0m\u001b[0;34m,\u001b[0m \u001b[0mdict\u001b[0m\u001b[0;34m)\u001b[0m\u001b[0;34m:\u001b[0m\u001b[0;34m\u001b[0m\u001b[0m\n\u001b[1;32m     21\u001b[0m         \u001b[0;32mraise\u001b[0m \u001b[0mex\u001b[0m\u001b[0;34m.\u001b[0m\u001b[0mLoadingException\u001b[0m\u001b[0;34m(\u001b[0m\u001b[0;34m'Config should be a dictionary'\u001b[0m\u001b[0;34m)\u001b[0m\u001b[0;34m\u001b[0m\u001b[0m\n",
      "\u001b[0;32m/anaconda3/lib/python3.6/site-packages/client/api/assignment.py\u001b[0m in \u001b[0;36m_get_config\u001b[0;34m(config)\u001b[0m\n\u001b[1;32m     39\u001b[0m     \u001b[0;32melif\u001b[0m \u001b[0;32mnot\u001b[0m \u001b[0mos\u001b[0m\u001b[0;34m.\u001b[0m\u001b[0mpath\u001b[0m\u001b[0;34m.\u001b[0m\u001b[0misfile\u001b[0m\u001b[0;34m(\u001b[0m\u001b[0mconfig\u001b[0m\u001b[0;34m)\u001b[0m\u001b[0;34m:\u001b[0m\u001b[0;34m\u001b[0m\u001b[0m\n\u001b[1;32m     40\u001b[0m         raise ex.LoadingException(\n\u001b[0;32m---> 41\u001b[0;31m                 'Could not find config file: {}'.format(config))\n\u001b[0m\u001b[1;32m     42\u001b[0m \u001b[0;34m\u001b[0m\u001b[0m\n\u001b[1;32m     43\u001b[0m     \u001b[0;32mtry\u001b[0m\u001b[0;34m:\u001b[0m\u001b[0;34m\u001b[0m\u001b[0m\n",
      "\u001b[0;31mLoadingException\u001b[0m: Could not find config file: ps5.ok"
     ]
    }
   ],
   "source": [
    "# THIS CELL IS THE KEY TO THE OKPY.ORG AUTOGRADER SYSTEM\n",
    "#\n",
    "# Don't change this cell; just run it. \n",
    "# The result will give you directions about how to log in to the submission system, called OK.\n",
    "# Once you're logged in, you can run this cell again, but it won't ask you who you are because\n",
    "# it remembers you. However, you will need to log in once per assignment.\n",
    "\n",
    "!pip install -U okpy\n",
    "\n",
    "from client.api.notebook import Notebook\n",
    "\n",
    "ok = Notebook('ps5.ok')\n",
    "_ = ok.auth(force=True, inline=True)"
   ]
  },
  {
   "cell_type": "markdown",
   "metadata": {},
   "source": [
    "### ⬆︎⬆︎⬆︎⬆︎⬆︎⬆︎⬆︎⬆︎⬆︎⬆︎⬆︎⬆︎⬆︎⬆︎⬆︎⬆︎\n",
    "### RUN THESE CELLS ABOVE FIRST"
   ]
  },
  {
   "cell_type": "markdown",
   "metadata": {},
   "source": [
    "# Problem Set 5 (Due Feb 19 11:59:59 PM)"
   ]
  },
  {
   "cell_type": "markdown",
   "metadata": {},
   "source": [
    "## Programming Dos and Don'ts...\n",
    "\n",
    "### A Running List...\n",
    "\n",
    "1. **Do** restart your kernel and run cells up to your current working point every fifteen minutes or so. Yes, it takes a little time. But if you don't, sooner or later the machine's namespace will get confused, and then you will get confused about the state of the machine's namespace, and by assuming things about it that are false you will lose hours and hours...   \n",
    "&nbsp;   \n",
    "\n",
    "2. **Do** edit code cells by copying them below your current version and then working on the copy: when you break everything in the current cell (as you will), you can then go back to the old cell and start fresh...   \n",
    "&nbsp;\n",
    "\n",
    "3. **Do** exercise agile development practices: if there is a line of code that you have not tested, test it. The best way to test is to ask the machine to echo back to you the thing you have just created in its namespace to make sure that it is what you want it to be...   \n",
    "&nbsp;\n",
    "\n",
    "4. **Do** take screenshots of your error messages...   \n",
    "&nbsp;\n",
    "\n",
    "5. **Do** google your error messages: ms. google is your best friend here...   \n",
    "&nbsp;\n",
    "\n",
    "6. **Do not** confuse assignment (\"=\") and test for equality (\"==\"). In general, if there is an \"if\" anywhere nearby, you should be testing for equality. If there is not, you should be assignment a variable in your namespace to a value. **Do** curse the mathematicians 500 years ago who did not realize that in the twenty-first century it would be very convenient if we had different and not confusable symbols for equals-as-assignment and equals-as-test...   \n",
    "&nbsp;\n",
    "\n",
    "----\n",
    "\n",
    "&nbsp;"
   ]
  },
  {
   "cell_type": "markdown",
   "metadata": {},
   "source": [
    "**(Task A) Programming Practices**\n",
    "\n",
    "If it strikes you that anything should be added to this list of programming dos and don'ts, please email it to me at <delong@econ.berkeley.edu>"
   ]
  },
  {
   "cell_type": "markdown",
   "metadata": {},
   "source": [
    "----"
   ]
  },
  {
   "cell_type": "markdown",
   "metadata": {},
   "source": [
    "**(Task B) Getting a Sense of How the Solow Growth Model Behaves Via Simulation**\n",
    "\n",
    "We start out with us giving you two functions:\n",
    "\n",
    "    sgm_bgp_100yr_run(L0, E0, n=0.01, g=0.02, s=0.24,\n",
    "    alpha=0.5, delta=0.03, Delta_s=0, Delta_g=0, Delta_n=0, \n",
    "    T = 100)\n",
    "\n",
    "calculating and plotting levels of Solow growth model variables, and:\n",
    "\n",
    "    log_sgm_bgp_100yr_run(L0, E0, n=0.01, g=0.02, s=0.24, \n",
    "    alpha=0.5, delta=0.03, Delta_s=0, Delta_g=0, Delta_n=0, \n",
    "    T = 100)\n",
    "\n",
    "calculating and plotting the logarithms of Solow growth model variables.\n",
    "    \n",
    "Required arguments are the initial level of the labor force, L0, the first argument of the function, and the initial level of the efficiency of labor, E0, the second argument of the\n",
    "function.\n",
    "\n",
    "Optional arguments are the curvature of the production function parameter alpha (or $ \\alpha $), the depreciation rate delta (or $ \\delta $), and the time T for which the simulation is to be run; plus:\n",
    "\n",
    "* the value of labor force growth n for the initial balanced-growth path that the economy is on, and the value Delta_n (or $ {\\Delta}n $) of the differential between the initial and the final (if we are considering a jump in n that takes place over time) or the alternative (if we are considering an alternative scenario, an alternate world, with a different value of n);   \n",
    "&nbsp;\n",
    "\n",
    "* the value of efficiency of labor growth g for the initial balanced-growth path that the economy is on, and the value Delta_g (or $ {\\Delta}g $) of the differential between the initial and the final (if we are considering a jump in g that takes place over time) or the alternative (if we are considering an alternative scenario, an alternate world, with a different value of g);   \n",
    "&nbsp;\n",
    "\n",
    "* the value of the savings-investment share s for the initial balanced-growth path that the economy is on, and the value Delta_s (or $ {\\Delta}s $) of the differential between the initial and the final (if we are considering a jump in s that takes place over time) or the alternative (if we are considering an alternative scenario, an alternate world, with a different value of s);   \n",
    "&nbsp;\n",
    "\n",
    "If optional arguments are not given, then they take on their default values:\n",
    "\n",
    "* Zero for three Deltas (or $ \\Delta $s), Delta_s, Delta_n, and Delta_g ($ {\\Delta}s, {\\Delta}n, {\\Delta}g) $.\n",
    "* n=0.01, g=0.02, s=0.24\n",
    "* T = 100\n",
    "* ($ \\alpha $) alpha=0.5, ($ \\delta $) delta=0.03\n",
    "\n",
    "Check the functions, run the base cases with the two percentage point boost to annual labor force growth Delta_n = 0.02 ($ {\\Delta}n = 0.02 $) and report any bugs you find.\n",
    "\n",
    "Then go on to the descriptions and tasks further down..."
   ]
  },
  {
   "cell_type": "code",
   "execution_count": 15,
   "metadata": {},
   "outputs": [],
   "source": [
    "# FUNCTION FOR CALCULATING AND GRAPHING THE LEVELS OF \n",
    "# SOLOW GROWTH MODEL VARIABLES IN SIMULATIONS\n",
    "#\n",
    "# might as well put \"check that common libraries are active\" as a default header\n",
    "# in every long python code cell...\n",
    "\n",
    "import matplotlib as mpl\n",
    "import matplotlib.pyplot as plt\n",
    "import pandas as pd\n",
    "import scipy as sp\n",
    "import numpy as np\n",
    "%matplotlib inline\n",
    "\n",
    "# we are going to want to see what happens for lots of\n",
    "# different model parameter values and initial conditions,\n",
    "# so stuff our small simulation program inside a function, so \n",
    "# we can then invoke it with a single line...\n",
    "#\n",
    "# we are going to assume the economy starts on its initial\n",
    "# balanced growth path...\n",
    "#\n",
    "# we are going to want to keep track not just of what the\n",
    "# economy's variables are at each point in time, but also \n",
    "# what the initial and alternative balanced-growth path \n",
    "# values of variables are. Given the parameters, the new BGP \n",
    "# is attracting the economy to it at the speed (1-α)(n+g+δ), \n",
    "# closing that fraction of the gap between its current state \n",
    "# and the balanced growth path attractor every period...\n",
    "\n",
    "def sgm_bgp_100yr_run(L0, E0, n=0.00, g=0.02, s=0.15, \n",
    "    alpha=0.5, delta=0.03, Delta_s=0, Delta_g=0, Delta_n=0, \n",
    "    T = 100):\n",
    "\n",
    "    sg_df = pd.DataFrame(index=range(T),columns=['Labor', \n",
    "        'Efficiency',\n",
    "        'Capital',\n",
    "        'Output',\n",
    "        'Output_per_Worker',\n",
    "        'Capital_Output_Ratio',\n",
    "        'BGP_initial_Labor', \n",
    "        'BGP_initial_Efficiency',\n",
    "        'BGP_initial_Output',\n",
    "        'BGP_initial_Output_per_Worker',\n",
    "        'BGP_initial_Capital_Output_Ratio',\n",
    "        'BGP_initial_Capital',\n",
    "        'BGP_final_Labor', \n",
    "        'BGP_final_Efficiency',\n",
    "        'BGP_final_Output',\n",
    "        'BGP_final_Output_per_Worker',\n",
    "        'BGP_final_Capital_Output_Ratio',\n",
    "        'BGP_final_Capital'],\n",
    "        dtype='float')\n",
    "\n",
    "    sg_df.Labor[0] = L0\n",
    "    sg_df.Efficiency[0] = E0\n",
    "    KoverY_initial_steady_state = s/(n+g+delta)\n",
    "    YoverL_initial_steady_state = ((s/(n+g+delta))**(alpha/(1-alpha)) \n",
    "        * E0)\n",
    "    KoverL_initial_steady_state = (YoverL_initial_steady_state *\n",
    "        KoverY_initial_steady_state)\n",
    "    sg_df.Capital[0] = KoverL_initial_steady_state * L0\n",
    "    sg_df.Output[0] = (sg_df.Capital[0]**alpha * (sg_df.Labor[0] * \n",
    "        sg_df.Efficiency[0])**(1-alpha))\n",
    "    sg_df.Output_per_Worker[0] = sg_df.Output[0]/sg_df.Labor[0]\n",
    "    sg_df.Capital_Output_Ratio[0] = sg_df.Capital[0]/sg_df.Output[0]\n",
    "    \n",
    "    sg_df.BGP_initial_Labor[0] = L0\n",
    "    sg_df.BGP_initial_Efficiency[0] = E0\n",
    "    sg_df.BGP_initial_Capital_Output_Ratio[0] = (s / (n + g + delta))\n",
    "    sg_df.BGP_initial_Output_per_Worker[0] = sg_df.Efficiency[0] * (\n",
    "        sg_df.BGP_initial_Capital_Output_Ratio[0]*(alpha/(1 - alpha)))\n",
    "    sg_df.BGP_initial_Output[0] = sg_df.BGP_initial_Output_per_Worker[0] * sg_df.Labor[0]\n",
    "    sg_df.BGP_initial_Capital[0] = sg_df.Capital[0]\n",
    "    \n",
    "    sg_df.BGP_final_Labor[0] = L0\n",
    "    sg_df.BGP_final_Efficiency[0] = E0\n",
    "    sg_df.BGP_final_Capital_Output_Ratio[0] = ((s + Delta_s) / \n",
    "        (n + Delta_n + g + Delta_g + delta))\n",
    "    sg_df.BGP_final_Output_per_Worker[0] = sg_df.Efficiency[0] * (\n",
    "        sg_df.BGP_final_Capital_Output_Ratio[0]*(alpha/(1 - alpha)))\n",
    "    sg_df.BGP_final_Output[0] = sg_df.BGP_final_Output_per_Worker[0] * sg_df.Labor[0]\n",
    "    sg_df.BGP_final_Capital[0] = sg_df.Labor[0] * sg_df.Efficiency[0] * (\n",
    "        sg_df.BGP_final_Capital_Output_Ratio[0]**(1/(1 - alpha)))\n",
    "    \n",
    "\n",
    "    for i in range(T):\n",
    "        sg_df.Labor[i+1] = (sg_df.Labor[i] * np.exp(n + Delta_n))\n",
    "        sg_df.Efficiency[i+1] = (sg_df.Efficiency[i] * np.exp(g + Delta_g))\n",
    "        KoverY_current = sg_df.Capital[i]/sg_df.Output[i]\n",
    "        sg_df.Capital[i+1] = (sg_df.Capital[i] * np.exp((s+Delta_s)/ \n",
    "            KoverY_current - delta))\n",
    "        sg_df.Output[i+1] = (sg_df.Capital[i+1]**alpha * \n",
    "            (sg_df.Labor[i+1] * sg_df.Efficiency[i+1])**(1-alpha))\n",
    "        sg_df.Output_per_Worker[i+1] = sg_df.Output[i+1]/sg_df.Labor[i+1]\n",
    "        sg_df.Capital_Output_Ratio[i+1] = (sg_df.Capital[i+1]/\n",
    "            sg_df.Output[i+1])\n",
    "        \n",
    "        sg_df.BGP_initial_Labor[i+1] = (sg_df.BGP_initial_Labor[i] * np.exp(n))\n",
    "        sg_df.BGP_initial_Efficiency[i+1] = (sg_df.BGP_initial_Efficiency[i] * np.exp(g))\n",
    "        sg_df.BGP_initial_Capital_Output_Ratio[i+1] = (s / (n + g + delta))\n",
    "        sg_df.BGP_initial_Output_per_Worker[i+1] = sg_df.Efficiency[i+1] * (\n",
    "            sg_df.BGP_initial_Capital_Output_Ratio[i+1]**(alpha/(1 - alpha)))\n",
    "        sg_df.BGP_initial_Output[i+1] = (sg_df.BGP_initial_Output_per_Worker[i+1] * \n",
    "            sg_df.Labor[i+1])\n",
    "        sg_df.BGP_initial_Capital[i+1] = (s / (n + g + delta))**(1/(1-alpha)) * (\n",
    "            sg_df.Efficiency[i+1] * sg_df.Labor[i+1])\n",
    "        \n",
    "        sg_df.BGP_final_Labor[i+1] = (sg_df.BGP_final_Labor[i] * np.exp(n + Delta_n))\n",
    "        sg_df.BGP_final_Efficiency[i+1] = (sg_df.BGP_final_Efficiency[i] * np.exp(g + Delta_g))\n",
    "        sg_df.BGP_final_Capital_Output_Ratio[i+1] = ((s + Delta_s) / \n",
    "            (n + Delta_n + g + Delta_g + delta))\n",
    "        sg_df.BGP_final_Output_per_Worker[i+1] = sg_df.Efficiency[i+1] * (\n",
    "            sg_df.BGP_final_Capital_Output_Ratio[i+1]**(alpha/(1 - alpha)))\n",
    "        sg_df.BGP_final_Output[i+1] = (sg_df.BGP_final_Output_per_Worker[i+1] * \n",
    "            sg_df.Labor[i+1])\n",
    "        sg_df.BGP_final_Capital[i+1] = ((s + Delta_s) / (n + Delta_n + g + Delta_g + delta))**(1/(1-alpha)) * (\n",
    "            sg_df.Efficiency[i+1] * sg_df.Labor[i+1])\n",
    "        \n",
    "    fig = plt.figure(figsize=(15,10))\n",
    "\n",
    "    ax1 = plt.subplot(2,3,1)\n",
    "    sg_df.BGP_initial_Labor.plot(ax = ax1, title = \"BGP (Initial) Labor Force\")                                       \n",
    "    sg_df.BGP_final_Labor.plot(ax = ax1, title = \"BGP (Final) Labor Force\")\n",
    "    sg_df.Labor.plot(ax = ax1, title = \"Labor Force\")\n",
    "    plt.ylabel(\"Factors\")\n",
    "    plt.ylim(0, )\n",
    "\n",
    "    ax2 = plt.subplot(2,3,2)\n",
    "    sg_df.BGP_initial_Efficiency.plot(ax = ax2, title = \"BGP (Initial) Efficiency\")                                       \n",
    "    sg_df.BGP_final_Efficiency.plot(ax = ax2, title = \"BGP (Final) Efficiency\")\n",
    "    sg_df.Efficiency.plot(ax = ax2, title = \"Efficiency of Labor\")\n",
    "    plt.ylim(0, )\n",
    "    \n",
    "    ax3 = plt.subplot(2,3,3)\n",
    "    sg_df.BGP_initial_Capital.plot(ax = ax3, title = \"BGP (Initial) Capital Stock\")\n",
    "    sg_df.BGP_final_Capital.plot(ax = ax3, title = \"BGP (Final) Capital Stock\")\n",
    "    sg_df.Capital.plot(ax = ax3, title = \"Capital Stock\")\n",
    "    plt.ylim(0, )\n",
    "\n",
    "    ax4 = plt.subplot(2,3,4)\n",
    "    sg_df.BGP_initial_Output.plot(ax = ax4, title = \"BGP (Initial) Output\")\n",
    "    sg_df.BGP_final_Output.plot(ax = ax4, title = \"BGP (Final) Output\")\n",
    "    sg_df.Output.plot(ax = ax4, title = \"Output\")\n",
    "    plt.ylabel(\"Outcomes\")\n",
    "    plt.ylim(0, )\n",
    "\n",
    "    ax5 = plt.subplot(2,3,5)\n",
    "    sg_df.BGP_initial_Output_per_Worker.plot(ax = ax5, title = \"BGP (Initial) Output per Worker\")\n",
    "    sg_df.BGP_final_Output_per_Worker.plot(ax = ax5, title = \"BGP (Final) Output per Worker\")\n",
    "    sg_df.Output_per_Worker.plot(ax = ax5, title = \"Output per Worker\")\n",
    "    plt.xlabel(\"Years\")\n",
    "    plt.ylabel(\"Ratios\")\n",
    "    plt.ylim(0, )\n",
    "\n",
    "    ax6 = plt.subplot(2,3,6)\n",
    "    sg_df.BGP_initial_Capital_Output_Ratio.plot(ax = ax6, \n",
    "        title = \"BGP (Initial) Capital-Output Ratio\")\n",
    "    sg_df.BGP_final_Capital_Output_Ratio.plot(ax = ax6, \n",
    "        title = \"BGP (Final) Capital-Output Ratio\")\n",
    "    sg_df.Capital_Output_Ratio.plot(ax = ax6, \n",
    "        title = \"Capital-Output Ratio\")\n",
    "    plt.xlabel(\"Years\")\n",
    "    plt.ylim(0, )\n",
    "\n",
    "    plt.suptitle('Solow Growth Model: Simulation Run', size = 24)\n",
    "\n",
    "    plt.show()\n",
    "    \n",
    "    print(\"blue is the initial parameter values-scenario balanced-growth path\")\n",
    "    print(\"orange is the final parameter values-scenario balanced growth path\")\n",
    "    print(\"green is the path of the economic variable\")\n",
    "    print(\" \")\n",
    "    print(n + Delta_n, \"is the labor force growth rate\")\n",
    "    print(g + Delta_g, \"is the efficiency of labor growth rate\")\n",
    "    print(delta, \"is the depreciation rate\")\n",
    "    print(s + Delta_s, \"is the savings rate\")\n",
    "    print(alpha, \"is the decreasing-returns-to-scale parameter\")"
   ]
  },
  {
   "cell_type": "code",
   "execution_count": 20,
   "metadata": {},
   "outputs": [
    {
     "data": {
      "image/png": "[encoded data removed]",
      "text/plain": [
       "<Figure size 1080x720 with 6 Axes>"
      ]
     },
     "metadata": {
      "needs_background": "light"
     },
     "output_type": "display_data"
    },
    {
     "name": "stdout",
     "output_type": "stream",
     "text": [
      "blue is the initial parameter values-scenario balanced-growth path\n",
      "orange is the final parameter values-scenario balanced growth path\n",
      "green is the path of the economic variable\n",
      " \n",
      "0.0 is the labor force growth rate\n",
      "0.02 is the efficiency of labor growth rate\n",
      "0.03 is the depreciation rate\n",
      "0.2 is the savings rate\n",
      "0.5 is the decreasing-returns-to-scale parameter\n"
     ]
    }
   ],
   "source": [
    "# Now let's see how this works in a base case, and with the labor\n",
    "# force growth rate boosted by 2% per year in the alternative case...\n",
    "\n",
    "Delta_s = 0\n",
    "Delta_g = 0\n",
    "Delta_n = 0\n",
    "\n",
    "sgm_bgp_100yr_run(L0 = 1, E0 = 1, Delta_s = 0.05)"
   ]
  },
  {
   "cell_type": "code",
   "execution_count": 17,
   "metadata": {},
   "outputs": [],
   "source": [
    "# FUNCTION FOR CALCULATING AND GRAPHING THE LOGS OF OF SOLOW GROWTH \n",
    "# MODEL VARIABLES IN THE SIMULATIONS \n",
    "#\n",
    "# might as well put \"check that common libraries are active\" as a default header\n",
    "# in every long python code cell...\n",
    "\n",
    "import matplotlib as mpl\n",
    "import matplotlib.pyplot as plt\n",
    "import pandas as pd\n",
    "import scipy as sp\n",
    "import numpy as np\n",
    "%matplotlib inline\n",
    "\n",
    "# we are going to want to see what happens for lots of\n",
    "# different model parameter values and initial conditions,\n",
    "# so stuff our small simulation program inside a function, so \n",
    "# we can then invoke it with a single line...\n",
    "#\n",
    "# we are going to assume the economy starts on its initial\n",
    "# balanced growth path...\n",
    "#\n",
    "# we are going to want to keep track not just of what the\n",
    "# economy's variables are at each point in time, but also \n",
    "# what the initial and alternative balanced-growth path \n",
    "# values of variables are. Given the parameters, the new BGP \n",
    "# is attracting the economy to it at the speed (1-α)(n+g+δ), \n",
    "# closing that fraction of the gap between its current state \n",
    "# and the balanced growth path attractor every period...\n",
    "\n",
    "def log_sgm_bgp_100yr_run(L0, E0, n=0.00, g=0.02, s=0.15, \n",
    "    alpha=0.5, delta=0.03, Delta_s=0, Delta_g=0, Delta_n=0, \n",
    "    T = 100):\n",
    "\n",
    "    sg_df = pd.DataFrame(index=range(T),columns=['Labor', \n",
    "        'Efficiency',\n",
    "        'Capital',\n",
    "        'Output',\n",
    "        'Output_per_Worker',\n",
    "        'Capital_Output_Ratio',\n",
    "        'BGP_initial_Labor', \n",
    "        'BGP_initial_Efficiency',\n",
    "        'BGP_initial_Output',\n",
    "        'BGP_initial_Output_per_Worker',\n",
    "        'BGP_initial_Capital_Output_Ratio',\n",
    "        'BGP_initial_Capital',\n",
    "        'BGP_final_Labor', \n",
    "        'BGP_final_Efficiency',\n",
    "        'BGP_final_Output',\n",
    "        'BGP_final_Output_per_Worker',\n",
    "        'BGP_final_Capital_Output_Ratio',\n",
    "        'BGP_final_Capital'],\n",
    "        dtype='float')\n",
    "\n",
    "    sg_df.Labor[0] = L0\n",
    "    sg_df.Efficiency[0] = E0\n",
    "    KoverY_initial_steady_state = s/(n+g+delta)\n",
    "    YoverL_initial_steady_state = ((s/(n+g+delta))**(alpha/(1-alpha)) \n",
    "        * E0)\n",
    "    KoverL_initial_steady_state = (YoverL_initial_steady_state *\n",
    "        KoverY_initial_steady_state)\n",
    "    sg_df.Capital[0] = KoverL_initial_steady_state * L0\n",
    "    sg_df.Output[0] = (sg_df.Capital[0]**alpha * (sg_df.Labor[0] * \n",
    "        sg_df.Efficiency[0])**(1-alpha))\n",
    "    sg_df.Output_per_Worker[0] = sg_df.Output[0]/sg_df.Labor[0]\n",
    "    sg_df.Capital_Output_Ratio[0] = sg_df.Capital[0]/sg_df.Output[0]\n",
    "    \n",
    "    sg_df.BGP_initial_Labor[0] = L0\n",
    "    sg_df.BGP_initial_Efficiency[0] = E0\n",
    "    sg_df.BGP_initial_Capital_Output_Ratio[0] = (s / (n + g + delta))\n",
    "    sg_df.BGP_initial_Output_per_Worker[0] = sg_df.Efficiency[0] * (\n",
    "        sg_df.BGP_initial_Capital_Output_Ratio[0]*(alpha/(1 - alpha)))\n",
    "    sg_df.BGP_initial_Output[0] = sg_df.BGP_initial_Output_per_Worker[0] * sg_df.Labor[0]\n",
    "    sg_df.BGP_initial_Capital[0] = sg_df.Labor[0] * sg_df.Efficiency[0] * (\n",
    "        sg_df.BGP_initial_Capital_Output_Ratio[0]**(1/(1 - alpha)))\n",
    "    \n",
    "    sg_df.BGP_final_Labor[0] = L0\n",
    "    sg_df.BGP_final_Efficiency[0] = E0\n",
    "    sg_df.BGP_final_Capital_Output_Ratio[0] = ((s + Delta_s) / \n",
    "        (n + Delta_n + g + Delta_g + delta))\n",
    "    sg_df.BGP_final_Output_per_Worker[0] = sg_df.Efficiency[0] * (\n",
    "        sg_df.BGP_final_Capital_Output_Ratio[0]*(alpha/(1 - alpha)))\n",
    "    sg_df.BGP_final_Output[0] = sg_df.BGP_final_Output_per_Worker[0] * sg_df.Labor[0]\n",
    "    sg_df.BGP_final_Capital[0] = sg_df.Labor[0] * sg_df.Efficiency[0] * (\n",
    "        sg_df.BGP_final_Capital_Output_Ratio[0]**(1/(1 - alpha)))\n",
    "    \n",
    "\n",
    "    for i in range(T):\n",
    "        sg_df.Labor[i+1] = (sg_df.Labor[i] * np.exp(n + Delta_n))\n",
    "        sg_df.Efficiency[i+1] = (sg_df.Efficiency[i] * np.exp(g + Delta_g))\n",
    "        KoverY_current = sg_df.Capital[i]/sg_df.Output[i]\n",
    "        sg_df.Capital[i+1] = (sg_df.Capital[i] * np.exp((s+Delta_s)/ \n",
    "            KoverY_current - delta))\n",
    "        sg_df.Output[i+1] = (sg_df.Capital[i+1]**alpha * \n",
    "            (sg_df.Labor[i+1] * sg_df.Efficiency[i+1])**(1-alpha))\n",
    "        sg_df.Output_per_Worker[i+1] = sg_df.Output[i+1]/sg_df.Labor[i+1]\n",
    "        sg_df.Capital_Output_Ratio[i+1] = (sg_df.Capital[i+1]/\n",
    "            sg_df.Output[i+1])\n",
    "        \n",
    "        sg_df.BGP_initial_Labor[i+1] = (sg_df.BGP_initial_Labor[i] * np.exp(n))\n",
    "        sg_df.BGP_initial_Efficiency[i+1] = (sg_df.BGP_initial_Efficiency[i] * np.exp(g))\n",
    "        sg_df.BGP_initial_Capital_Output_Ratio[i+1] = (s / (n + g + delta))\n",
    "        sg_df.BGP_initial_Output_per_Worker[i+1] = sg_df.Efficiency[i+1] * (\n",
    "            sg_df.BGP_initial_Capital_Output_Ratio[i+1]**(alpha/(1 - alpha)))\n",
    "        sg_df.BGP_initial_Output[i+1] = (sg_df.BGP_initial_Output_per_Worker[i+1] * \n",
    "            sg_df.Labor[i+1])\n",
    "        sg_df.BGP_initial_Capital[i+1] = (s / (n + g + delta))**(1/(1-alpha)) * (\n",
    "            sg_df.Efficiency[i+1] * sg_df.Labor[i+1])\n",
    "        \n",
    "        sg_df.BGP_final_Labor[i+1] = (sg_df.BGP_final_Labor[i] * np.exp(n + Delta_n))\n",
    "        sg_df.BGP_final_Efficiency[i+1] = (sg_df.BGP_final_Efficiency[i] * np.exp(g + Delta_g))\n",
    "        sg_df.BGP_final_Capital_Output_Ratio[i+1] = ((s + Delta_s) / \n",
    "            (n + Delta_n + g + Delta_g + delta))\n",
    "        sg_df.BGP_final_Output_per_Worker[i+1] = sg_df.Efficiency[i+1] * (\n",
    "            sg_df.BGP_final_Capital_Output_Ratio[i+1]**(alpha/(1 - alpha)))\n",
    "        sg_df.BGP_final_Output[i+1] = (sg_df.BGP_final_Output_per_Worker[i+1] * \n",
    "            sg_df.Labor[i+1])\n",
    "        sg_df.BGP_final_Capital[i+1] = ((s + Delta_s) / (n + Delta_n + g + Delta_g + delta))**(1/(1-alpha)) * (\n",
    "            sg_df.Efficiency[i+1] * sg_df.Labor[i+1])\n",
    "        \n",
    "    fig = plt.figure(figsize=(15,10))\n",
    "\n",
    "    ax1 = plt.subplot(2,3,1)\n",
    "    np.log(sg_df.BGP_initial_Labor).plot(ax = ax1, title = \"BGP (Initial) Labor Force\")                                       \n",
    "    np.log(sg_df.BGP_final_Labor).plot(ax = ax1, title = \"BGP (Final) Labor Force\")\n",
    "    np.log(sg_df.Labor).plot(ax = ax1, title = \"Labor Force\")\n",
    "    plt.ylabel(\"Factors\")\n",
    "    plt.ylim(0, )\n",
    "\n",
    "    ax2 = plt.subplot(2,3,2)\n",
    "    np.log(sg_df.BGP_initial_Efficiency).plot(ax = ax2, title = \"BGP (Initial) Efficiency\")                                       \n",
    "    np.log(sg_df.BGP_final_Efficiency).plot(ax = ax2, title = \"BGP (Final) Efficiency\")\n",
    "    np.log(sg_df.Efficiency).plot(ax = ax2, title = \"Efficiency of Labor\")\n",
    "    plt.ylim(0, )\n",
    "    \n",
    "    ax3 = plt.subplot(2,3,3)\n",
    "    np.log(sg_df.BGP_initial_Capital).plot(ax = ax3, title = \"BGP (Initial) Capital Stock\")\n",
    "    np.log(sg_df.BGP_final_Capital).plot(ax = ax3, title = \"BGP (Final) Capital Stock\")\n",
    "    np.log(sg_df.Capital).plot(ax = ax3, title = \"Capital Stock\")\n",
    "    plt.ylim(0, )\n",
    "\n",
    "    ax4 = plt.subplot(2,3,4)\n",
    "    np.log(sg_df.BGP_initial_Output).plot(ax = ax4, title = \"BGP (Initial) Output\")\n",
    "    np.log(sg_df.BGP_final_Output).plot(ax = ax4, title = \"BGP (Final) Output\")\n",
    "    np.log(sg_df.Output).plot(ax = ax4, title = \"Output\")\n",
    "    plt.ylabel(\"Outcomes\")\n",
    "    plt.ylim(0, )\n",
    "\n",
    "    ax5 = plt.subplot(2,3,5)\n",
    "    np.log(sg_df.BGP_initial_Output_per_Worker).plot(ax = ax5, title = \"BGP (Initial) Output per Worker\")\n",
    "    np.log(sg_df.BGP_final_Output_per_Worker).plot(ax = ax5, title = \"BGP (Final) Output per Worker\")\n",
    "    np.log(sg_df.Output_per_Worker).plot(ax = ax5, title = \"Output per Worker\")\n",
    "    plt.xlabel(\"Years\")\n",
    "    plt.ylabel(\"Ratios\")\n",
    "    plt.ylim(0, )\n",
    "\n",
    "    ax6 = plt.subplot(2,3,6)\n",
    "    np.log(sg_df.BGP_initial_Capital_Output_Ratio).plot(ax = ax6, \n",
    "        title = \"BGP (Initial) Capital-Output Ratio\")\n",
    "    np.log(sg_df.BGP_final_Capital_Output_Ratio).plot(ax = ax6, \n",
    "        title = \"BGP (Final) Capital-Output Ratio\")\n",
    "    np.log(sg_df.Capital_Output_Ratio).plot(ax = ax6, \n",
    "        title = \"Capital-Output Ratio\")\n",
    "    plt.xlabel(\"Years\")\n",
    "    plt.ylim(0, )\n",
    "\n",
    "    plt.suptitle('Solow Growth Model: Simulation Run', size = 24)\n",
    "\n",
    "    plt.show()\n",
    "    \n",
    "    print(\"blue is the initial parameter values-scenario balanced-growth path\")\n",
    "    print(\"orange is the final parameter values-scenario balanced growth path\")\n",
    "    print(\"green is the path of the economic variable\")\n",
    "    print(\" \")\n",
    "    print(n + Delta_n, \"is the labor force growth rate\")\n",
    "    print(g + Delta_g, \"is the efficiency of labor growth rate\")\n",
    "    print(delta, \"is the depreciation rate\")\n",
    "    print(s + Delta_s, \"is the savings rate\")\n",
    "    print(alpha, \"is the decreasing-returns-to-scale parameter\")\n",
    "\n"
   ]
  },
  {
   "cell_type": "code",
   "execution_count": 21,
   "metadata": {},
   "outputs": [
    {
     "data": {
      "image/png": "[encoded data removed]",
      "text/plain": [
       "<Figure size 1080x720 with 6 Axes>"
      ]
     },
     "metadata": {
      "needs_background": "light"
     },
     "output_type": "display_data"
    },
    {
     "name": "stdout",
     "output_type": "stream",
     "text": [
      "blue is the initial parameter values-scenario balanced-growth path\n",
      "orange is the final parameter values-scenario balanced growth path\n",
      "green is the path of the economic variable\n",
      " \n",
      "0.0 is the labor force growth rate\n",
      "0.02 is the efficiency of labor growth rate\n",
      "0.03 is the depreciation rate\n",
      "0.2 is the savings rate\n",
      "0.5 is the decreasing-returns-to-scale parameter\n"
     ]
    }
   ],
   "source": [
    "# Now let's see how this works in a base case, and with the labor\n",
    "# force growth rate boosted by 2% per year in the alternative case...\n",
    "\n",
    "\n",
    "\n",
    "log_sgm_bgp_100yr_run(L0 = 1, E0 = 1, Delta_s = 0.05, T = 100)"
   ]
  },
  {
   "cell_type": "markdown",
   "metadata": {},
   "source": [
    "Now insert code cells between this markdown cell and the \"# Task B answer variables\" code cell. In them, run three simulations—logs and levels—in each of them, respectively, boosting one of the savings rate, the efficiency of labor growth rate, and the labor force growth rate by one percentage point over their default values in the function. \n",
    "\n",
    "Also calculate the values of log(K/Y) in the 50th year of the simulation for each of your three simulations. In the \"# Task B answer variables\" code cell, set the variables equal to their values in your three respective simulation runs. In the \"Task B Answer Description\" markdown cell, write two paragraphs telling us what you find out about the effects of these different changes in the economic environment on a Solow growth model economy from these simulation runs:"
   ]
  },
  {
   "cell_type": "code",
   "execution_count": null,
   "metadata": {},
   "outputs": [],
   "source": [
    "# Task B answer variables\n",
    "\n",
    "KoverY_50_splus = __ # In the simulation run boosting the savings rate, the value of \n",
    "                     # the capital output ratio in the 50th year goes here\n",
    "\n",
    "KoverY_50_nplus = __ # In the simulation run boosting the labor force growth rate, the\n",
    "                     #  value of the capital output ratio in the 50th year goes here\n",
    "\n",
    "KoverY_50_gplus = __ # In the simulation run boosting the efficiency of labor growth\n",
    "                     # rate, the log value of the capital output ratio in the 50th year \n",
    "                     # goes here"
   ]
  },
  {
   "cell_type": "markdown",
   "metadata": {
    "deletable": false,
    "manual_grade": true,
    "manual_problem_id": "Task B Answer Discussion"
   },
   "source": [
    "**Task B Answer Discussion**:\n",
    "\n"
   ]
  },
  {
   "cell_type": "code",
   "execution_count": null,
   "metadata": {},
   "outputs": [],
   "source": [
    "ok.grade('q01')"
   ]
  },
  {
   "cell_type": "markdown",
   "metadata": {},
   "source": [
    "----\n",
    "\n",
    "&nbsp;"
   ]
  },
  {
   "cell_type": "markdown",
   "metadata": {},
   "source": [
    "**(Task C): Different Values of the Production Function Parameter $\\alpha$**\n",
    "\n",
    "Still working with our two simulation functions:\n",
    "\n",
    "    sgm_bgp_100yr_run(L0, E0, n=0.01, g=0.02, s=0.24,\n",
    "    alpha=0.5, delta=0.03, Delta_s=0, Delta_g=0, Delta_n=0, \n",
    "    T = 100)\n",
    "    \n",
    "and:\n",
    "\n",
    "    log_sgm_bgp_100yr_run(L0, E0, n=0.01, g=0.02, s=0.24, \n",
    "    alpha=0.5, delta=0.03, Delta_s=0, Delta_g=0, Delta_n=0, \n",
    "    T = 100)\n",
    "    \n",
    "Insert code cells immediately below to calculate—logs and levels—the effect in the Solow growth model, starting from our default base case balanced growth path, of a permanent six percentage point increase in the savings-investment rate s for five different values of the production function curvature parameter alpha ($\\alpha$): 1/4, 1/3, 1/2, 2/3, and 3/4. \n",
    "\n",
    "Also calculate the values of log(K/Y) in the 50th year of the simulation for each of your  simulations. In the subsequent code cell \"Task C answer variables\" set the variables equal to their values in your five respective simulation runs.\n",
    "\n",
    "In the subsequent markdown cell \"Task C Answer Discussion\", write two paragraphs about what these simulation runs tell you about the differences between economies in which diminishing returns to scale set in quickly (alpha low, near zero), and economies in which diminishing returns set in slowly because capital has a high weight share in the production function (alpha high, near one):"
   ]
  },
  {
   "cell_type": "code",
   "execution_count": null,
   "metadata": {},
   "outputs": [],
   "source": [
    "# Task C answer variables\n",
    "\n",
    "KoverY_50_alphaquarter = __ # In the simulation run boosting the savings rate \n",
    "                            # with alpha=0.25, the value of the capital output\n",
    "                            # ratio in the 50th year goes here\n",
    "\n",
    "KoverY_50_alphathird = __ # In the simulation run boosting the savings rate \n",
    "                          # with alpha=1/3, the value of the capital output\n",
    "                          # ratio in the 50th year goes here\n",
    "\n",
    "KoverY_50_alphahalf = __ # In the simulation run boosting the savings rate \n",
    "                         # with alpha=0.5, the value of the capital output\n",
    "                         # ratio in the 50th year goes here\n",
    "\n",
    "KoverY_50_alphatwothirds = __ # In the simulation run boosting the savings rate \n",
    "                              # with alpha=2/3, the value of the capital output\n",
    "                              # ratio in the 50th year goes here\n",
    "        \n",
    "KoverY_50_alphathreequarters = __ # In the simulation run boosting the savings rate \n",
    "                                  # with alpha=3/4, the value of the capital output\n",
    "                                  # ratio in the 50th year goes here\n"
   ]
  },
  {
   "cell_type": "markdown",
   "metadata": {
    "deletable": false,
    "manual_grade": true,
    "manual_problem_id": "Task C Answer Discussion"
   },
   "source": [
    "**Task C Answer Discussion**:\n",
    "    \n"
   ]
  },
  {
   "cell_type": "code",
   "execution_count": null,
   "metadata": {},
   "outputs": [],
   "source": [
    "ok.grade('q02')"
   ]
  },
  {
   "cell_type": "markdown",
   "metadata": {},
   "source": [
    "----\n",
    "\n",
    "&nbsp;"
   ]
  },
  {
   "cell_type": "markdown",
   "metadata": {},
   "source": [
    "**(Task D) Graphing the Production Function**\n",
    "\n",
    "The code cell below calculates and graphs the per-worker version of the production function for alpha = 0.5, E =1. Copy and alter it to calculate the production function for alpha = 0.25, E =2, setting the output variable:\n",
    "\n",
    "&nbsp;&nbsp;&nbsp;&nbsp;&nbsp; OPW_quartertwo = output_per_worker[500, 1]. Run it. \n",
    "\n",
    "In the subsequent markdown cell, describe the differences between the two cases of the production function."
   ]
  },
  {
   "cell_type": "code",
   "execution_count": null,
   "metadata": {},
   "outputs": [],
   "source": [
    "import numpy as np\n",
    "import pandas as pd\n",
    "import matplotlib as mpl\n",
    "import matplotlib.pyplot as plt\n",
    "from IPython.display import Image\n",
    "\n",
    "alpha = 0.5\n",
    "E = 1\n",
    "\n",
    "output_per_worker = np.zeros((501, 2))\n",
    "\n",
    "for i in range(501):\n",
    "    lowestkoverl = 0\n",
    "    output_per_worker[i, 0] = lowestkoverl + 2 * i\n",
    "    output_per_worker[i, 1] = (output_per_worker[i, 0] ** alpha) * E\n",
    "output_per_worker_df = pd.DataFrame(data = output_per_worker, \n",
    "    columns = [\"Capital_per_Worker\", \"Output_per_Worker\"])\n",
    "\n",
    "output_per_worker_df.set_index('Capital_per_Worker').plot()\n",
    "plt.xlabel(\"Capital per Worker\")\n",
    "plt.ylabel(\"Output per Worker\")\n",
    "plt.ylim(0, )\n",
    "\n",
    "str1 = \"Production Function:\"\n",
    "str2 = \"Output per Worker as a Function of Capital per Worker\"\n",
    "str3 = \"for a Constant Value of the Efficiency of Labor\"\n",
    "str4 = \"α = 0.5, E = 1\"\n",
    "plt.title(str1 + \"\\n\" + str2 + \"\\n\" + str3 + \"\\n\" + str4, size = 20)\n",
    "\n",
    "OPW_halfone = output_per_worker[500, 1]\n",
    "\n",
    "print(\"Output per worker =\", OPW_quartertwo)"
   ]
  },
  {
   "cell_type": "code",
   "execution_count": null,
   "metadata": {},
   "outputs": [],
   "source": [
    "import numpy as np\n",
    "import pandas as pd\n",
    "import matplotlib as mpl\n",
    "import matplotlib.pyplot as plt\n",
    "from IPython.display import Image\n",
    "\n",
    "alpha = 0.25\n",
    "E = 2\n",
    "\n",
    "output_per_worker = np.zeros((501, 2))\n",
    "\n",
    "for i in range(501):\n",
    "    lowestkoverl = 0\n",
    "    output_per_worker[i, 0] = lowestkoverl + 2 * i\n",
    "    output_per_worker[i, 1] = (output_per_worker[i, 0] ** alpha) * E\n",
    "output_per_worker_df = pd.DataFrame(data = output_per_worker, \n",
    "    columns = [\"Capital_per_Worker\", \"Output_per_Worker\"])\n",
    "\n",
    "output_per_worker_df.set_index('Capital_per_Worker').plot()\n",
    "plt.xlabel(\"Capital per Worker\")\n",
    "plt.ylabel(\"Output per Worker\")\n",
    "plt.ylim(0, )\n",
    "\n",
    "str1 = \"Production Function:\"\n",
    "str2 = \"Output per Worker as a Function of Capital per Worker\"\n",
    "str3 = \"for a Constant Value of the Efficiency of Labor\"\n",
    "str4 = \"α = 0.25, E = 2\"\n",
    "plt.title(str1 + \"\\n\" + str2 + \"\\n\" + str3 + \"\\n\" + str4, size = 20)\n",
    "\n",
    "OPW_quartertwo = output_per_worker[500, 1]\n",
    "\n",
    "print(\"Output per worker =\", OPW_quartertwo)"
   ]
  },
  {
   "cell_type": "code",
   "execution_count": null,
   "metadata": {},
   "outputs": [],
   "source": [
    "alpha = 0.25\n",
    "E = 2\n",
    "\n",
    "output_per_worker = np.zeros((501, 2))\n",
    "\n",
    "for i in range(501):\n",
    "    lowestkoverl = 0\n",
    "    output_per_worker[i, 0] = lowestkoverl + 2 * i\n",
    "    output_per_worker[i, 1] = (output_per_worker[i, 0] ** alpha) * E\n",
    "output_per_worker_df = DataFrame(data = output_per_worker, \n",
    "    columns = [\"Capital_per_Worker\", \"Output_per_Worker\"])\n",
    "\n",
    "output_per_worker_df.set_index('Capital_per_Worker').plot()\n",
    "plt.xlabel(\"Capital per Worker\")\n",
    "plt.ylabel(\"Output per Worker\")\n",
    "plt.ylim(0, )\n",
    "\n",
    "str1 = \"Production Function:\"\n",
    "str2 = \"Output per Worker as a Function of Capital per Worker\"\n",
    "str3 = \"for a Constant Value of the Efficiency of Labor\"\n",
    "str4 = \"α = 0.5, E = 1\"\n",
    "plt.title(str1 + \"\\n\" + str2 + \"\\n\" + str3 + \"\\n\" + str4, size = 20)\n",
    "\n",
    "OPW_quartertwo = output_per_worker[500, 1]\n",
    "\n",
    "print(\"Output per worker =\", OPW_quartertwo)"
   ]
  },
  {
   "cell_type": "markdown",
   "metadata": {
    "deletable": false,
    "manual_grade": true,
    "manual_problem_id": "Task D Answer Discussion"
   },
   "source": [
    "**Task D Answer Discussion**"
   ]
  },
  {
   "cell_type": "code",
   "execution_count": null,
   "metadata": {},
   "outputs": [],
   "source": [
    "ok.grade('q03')"
   ]
  },
  {
   "cell_type": "markdown",
   "metadata": {},
   "source": [
    "----\n",
    "\n",
    "&nbsp;"
   ]
  },
  {
   "cell_type": "markdown",
   "metadata": {},
   "source": [
    "**(Task E): Plotting the Cobb-Douglas Production Function**:\n",
    "\n",
    "The code cell below plots output per worker for five different values of the production function parameter α, adjusting E for each curve so that the value of output per worker is 40 when the capital-output ratio is 200:\n",
    "\n",
    "1. Run the cell.\n",
    "2. Copy the code in the cell. Paste it in a new cell. Alter the code so that it plots the production function for the five different production function parameters, but with the value of output per worker equal to 200 whenever capital per worker is 800."
   ]
  },
  {
   "cell_type": "code",
   "execution_count": null,
   "metadata": {},
   "outputs": [],
   "source": [
    "E = 40\n",
    "\n",
    "for a in range(5):\n",
    "    output_per_worker = np.zeros((501, 2))\n",
    "    alpha = 0.15 * (a + 1)\n",
    "    for i in range(501):\n",
    "        output_per_worker[i, 0] = 2 * i\n",
    "        output_per_worker[i, 1] = ((output_per_worker[i, 0] ** alpha) * E / \n",
    "            ((200) ** alpha) )\n",
    "    output_per_worker_df = DataFrame(data = output_per_worker, \n",
    "        columns = [\"Capital_per_Worker\", \"Output_per_Worker\"])\n",
    "\n",
    "    plt.plot(output_per_worker_df.Capital_per_Worker, output_per_worker_df.Output_per_Worker)\n",
    "    plt.legend([\"α=0.15\", \"α=0.30\", \"α=0.45\", \"α=0.60\", \"α=0.75\"])\n",
    "    \n",
    "plt.xlabel(\"Capital per Worker\")\n",
    "plt.ylabel(\"Output per Worker\")\n",
    "plt.title(\"Production Function for Varying α\\nHolding f(200) = 40\", size = 24)\n",
    "plt.xlim(0, 1000)\n",
    "plt.ylim(0, )"
   ]
  },
  {
   "cell_type": "code",
   "execution_count": null,
   "metadata": {},
   "outputs": [],
   "source": [
    "ok.grade('q04')"
   ]
  },
  {
   "cell_type": "markdown",
   "metadata": {},
   "source": [
    "**(Task F): Calibrating the Model to the U.S. Today**\n",
    "\n",
    "The code cell below gives parameter values roughly calibrated to the U.S. economy today, and sets two variables—KoverYstarinitial and YoverLstarinitial—equal to the capital/output ratio and output per worker level for the U.S. today along its current balanced growth path. Copy and paste the code cell, and alter it to calculate and print two variables:\n",
    "\n",
    "    KoverYstarfinal\n",
    "    YoverLstarfinal\n",
    "    \n",
    "equal to their alternative balanced growth path values if the U.S. savings-investment rate had been 2.75 percentage points higher. Then add more code cells calculating new variables:\n",
    "\n",
    "    KoverYstarinitial_F2\n",
    "    YoverLstarinitial_F2\n",
    "    KoverYstarfinal_F2\n",
    "    YoverLstarfinal_F2\n",
    "\n",
    "corresponding to a Solow growth model economy with alpha = 1/2 and YoverLstarinitial_F2 = 130000"
   ]
  },
  {
   "cell_type": "code",
   "execution_count": null,
   "metadata": {},
   "outputs": [],
   "source": [
    "# in the U.S. today values are approximately:\n",
    "\n",
    "n = 0.01\n",
    "g = 0.015\n",
    "delta = 0.03\n",
    "\n",
    "sinitial = 0.22\n",
    "alpha = 0.333\n",
    " \n",
    "KoverYstarinitial = sinitial/(n + g + delta)\n",
    "\n",
    "E = 65067.5831863\n",
    "\n",
    "YoverLstarinitial = KoverYstarinitial**(alpha/(1-alpha)) * E\n",
    "\n",
    "print(KoverYstarinitial, \"= KoverYstarinitial\")\n",
    "print(YoverLstarinitial, \"= YoverLstarinitial\")"
   ]
  },
  {
   "cell_type": "code",
   "execution_count": null,
   "metadata": {},
   "outputs": [],
   "source": [
    "ok.grade('q05')"
   ]
  },
  {
   "cell_type": "code",
   "execution_count": null,
   "metadata": {},
   "outputs": [],
   "source": [
    "_ = ok.submit()"
   ]
  }
 ],
 "metadata": {
  "kernelspec": {
   "display_name": "Python 3",
   "language": "python",
   "name": "python3"
  },
  "language_info": {
   "codemirror_mode": {
    "name": "ipython",
    "version": 3
   },
   "file_extension": ".py",
   "mimetype": "text/x-python",
   "name": "python",
   "nbconvert_exporter": "python",
   "pygments_lexer": "ipython3",
   "version": "3.6.6"
  }
 },
 "nbformat": 4,
 "nbformat_minor": 2
}
