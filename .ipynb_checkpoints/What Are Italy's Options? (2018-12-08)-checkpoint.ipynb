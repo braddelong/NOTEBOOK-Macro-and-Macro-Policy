{
 "cells": [
  {
   "cell_type": "markdown",
   "metadata": {},
   "source": [
    "# What Are Italy's Options?\n",
    "\n",
    "&nbsp;"
   ]
  },
  {
   "cell_type": "markdown",
   "metadata": {},
   "source": [
    "<img style=\"float:right;\" src=\"https://delong.typepad.com/.a/6a00e551f080038834022ad3a5e086200d-pi\" alt=\"https://fred.stlouisfed.org/graph/?graph_id=525535&rn=85\" title=\"https://fred.stlouisfed.org/graph/?graph_id=525535&rn=85\" border=\"0\" width=\"400\" />\n",
    "\n",
    "**Adam Tooze**: _[Italy: How Does the E.U. Think This Is Going to End?](https://www.nytimes.com/2018/12/05/opinion/eu-italy-debt-crisis.html)_: \"Over the past 10 years, Italy’s gross domestic product per capita has fallen... unique among large advanced economies...\n",
    "\n",
    ">...More than 32 percent of Italy’s young people are unemployed. The gloom, disappointment and frustration are undeniable. For the commission to declare that this is a time for austerity flies in the face of a reality that for many Italians is closer to a personal and national emergency....\n",
    "\n",
    ">The two parties that make up the current Italian government, the League and the Five Star Movement, were elected in March to address this crisis. The League is xenophobic; Five Star is erratic and zany. But the economic programs on which they campaigned are hardly outlandish.... The Italian government’s budget forecasts are optimistic. But others, including the Bank of Italy and the Peterson Institute of International Economics, warn that Italy is caught in a trap: Anxieties about debt sustainability mean that any stimulus has the perverse effect of driving up interest rates, squeezing bank lending and reducing growth..."
   ]
  }
 ],
 "metadata": {
  "kernelspec": {
   "display_name": "Python 3",
   "language": "python",
   "name": "python3"
  },
  "language_info": {
   "codemirror_mode": {
    "name": "ipython",
    "version": 3
   },
   "file_extension": ".py",
   "mimetype": "text/x-python",
   "name": "python",
   "nbconvert_exporter": "python",
   "pygments_lexer": "ipython3",
   "version": "3.6.5"
  }
 },
 "nbformat": 4,
 "nbformat_minor": 2
}
