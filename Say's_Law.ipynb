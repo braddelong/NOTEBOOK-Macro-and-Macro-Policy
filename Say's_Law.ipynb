{
 "cells": [
  {
   "cell_type": "markdown",
   "metadata": {},
   "source": [
    "# Say's Law\n",
    "\n",
    "* **Note to Self**: _[Say's Law](https://www.bradford-delong.com/2018/12/note-to-self-i-need-to-resolve-this-i-am-profoundly-dissatisfied-with-teaching-the-origin-of-business-cycles-and-gener.html)_: I need to resolve this. I am profoundly dissatisfied with teaching the origin of business cycles and \"general gluts\" via John Stuart Mill's 1829 \"excess demand for money is excess supply of everything else\", and in an economy of sticky prices, wages, and debts produces the recessions and depressions that we all know and love so well. It is a quick way to get into the subject. It is a convincing way. But it is not a correct way. There are, however, two problems: What is the \"correct\" way, exactly? How can we teach something closer to the \"correct\" way than Mill's \"excess demand for money is excess supply of everything else\" without losing our audience?...\n",
    "\n",
    "----\n",
    "\n",
    "    #monetarypolicy #macro #sayslaw"
   ]
  }
 ],
 "metadata": {
  "kernelspec": {
   "display_name": "Python 3",
   "language": "python",
   "name": "python3"
  },
  "language_info": {
   "codemirror_mode": {
    "name": "ipython",
    "version": 3
   },
   "file_extension": ".py",
   "mimetype": "text/x-python",
   "name": "python",
   "nbconvert_exporter": "python",
   "pygments_lexer": "ipython3",
   "version": "3.6.6"
  }
 },
 "nbformat": 4,
 "nbformat_minor": 2
}
